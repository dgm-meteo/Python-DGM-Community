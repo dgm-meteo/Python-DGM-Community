{
 "cells": [
  {
   "cell_type": "code",
   "execution_count": 1,
   "id": "quick-conversion",
   "metadata": {},
   "outputs": [
    {
     "data": {
      "text/plain": [
       "<Figure size 2000x1600 with 2 Axes>"
      ]
     },
     "metadata": {},
     "output_type": "display_data"
    }
   ],
   "source": [
    "\"\"\"\n",
    "Ce script permet de tracer l'orographie du modèle AROME sur une partie \n",
    "du Maroc ainsi que les stations du réseau synoptique\n",
    "à partir d'un fichier de données ASCII sous le format : \n",
    "    Latitude - Longitude - Valeur du champ\n",
    "\n",
    "Finalité : Tracer tout autre champ spatialement sur le Maroc\n",
    "\n",
    "Mme Feddoul    Rhizlane    :  11/03/2022  Version originale\n",
    "Mr  Lemkhenter Abderrazak  :  01/04/2022  Amélioration du script   \n",
    "\n",
    "N.B.: En cas de conflit de packages, supprimer SVP le package PyGEOS \n",
    "Il est à noter que ce script a été testé sous python 3.6\n",
    "\"\"\"\n",
    "\n",
    "import pandas as pd\n",
    "import numpy as np\n",
    "import geopandas\n",
    "from shapely.ops import unary_union\n",
    "from shapely.geometry import Polygon\n",
    "import matplotlib.pyplot as plt\n",
    "\n",
    "\n",
    "\"\"\"\n",
    "1- Lecture des données Elevation/Mask\n",
    "\"\"\"  \n",
    "data = np.loadtxt('INDTERREMER-ALT-AROME.dat')\n",
    "Long = data[:,0]; Lat = data[:,1]; Elev = data[:,3]; Mask= data[:,2]\n",
    "\n",
    "\"\"\"\n",
    "Création d'un geopandas a partir des données Lat/Lon/Elev\n",
    "\"\"\"\n",
    "df  = pd.DataFrame({'X':Long, 'Y':Lat, 'Z':Elev})\n",
    "gdf = geopandas.GeoDataFrame(\n",
    "    df, geometry=geopandas.points_from_xy(df.X, df.Y), crs='epsg:4326')\n",
    "\n",
    "\"\"\"\n",
    "2- Lecture du shapeFile\n",
    "\"\"\"\n",
    "shapefile = 'regions/regions.shp'\n",
    "geodf = geopandas.read_file(shapefile)\n",
    "\n",
    "\"\"\"\n",
    "Union des polygones pour avoir le Maroc comme un seul polygone pour pouvoir tracer le contour.\n",
    "\"\"\"\n",
    "polys=[]\n",
    "for g in geodf.geometry:\n",
    "    polys.append(g)\n",
    "maroc = geopandas.GeoDataFrame(geometry=geopandas.GeoSeries(unary_union(polys)), crs=\"EPSG:4326\")\n",
    "\n",
    "\n",
    "\"\"\"\n",
    "3- Lecture du fichier du réseau des stations\n",
    "\"\"\"\n",
    "stations=pd.read_csv('DGM-Network.csv')\n",
    "\n",
    "def plot_use_shape_intersection(fig, ax):\n",
    "\n",
    "    \"\"\"\n",
    "    Specifier ici les rectangle du sous-domaine cible en fermant le polygone\n",
    "    \"\"\"\n",
    "    lat_point_list = [30., 36., 36., 30., 30.]\n",
    "    lon_point_list = [-12., -12., 0., 0., -12.]\n",
    "\n",
    "    poly_geom = Polygon(zip(lon_point_list, lat_point_list))\n",
    "    poly = geopandas.GeoDataFrame(index=[0], crs=\"EPSG:4326\", geometry=[poly_geom])\n",
    "    \n",
    "    zone = geopandas.overlay(poly, maroc, how='intersection')\n",
    "    res=geopandas.overlay(gdf, zone, how='intersection')\n",
    "    mar=geopandas.overlay(maroc, poly, how='intersection')\n",
    "    \n",
    "    cs = ax.scatter(res.X, res.Y,5, res.Z, cmap='gist_gray_r')\n",
    "#    ss = ax.scatter(stations.LON, stations.LAT, 10, color='black')\n",
    "    ax.set_title('Elevation (m)', fontsize=25)\n",
    "    ax.set_xlabel('Longitudes (°)', fontsize=20)\n",
    "    ax.set_ylabel('Latitudes (°)', fontsize=20)\n",
    "    ax.tick_params(axis='both', which='major', labelsize=15)\n",
    "    cbar = fig.colorbar(cs, fraction=0.1, pad=0.01)\n",
    "    cbar.ax.tick_params(labelsize=15)\n",
    "    zone.boundary.plot(ax=ax, color='k' )\n",
    "\n",
    "\"\"\"\n",
    "Utilisation de subplot et figsize pour paramètrer la taille de l'image\n",
    "\"\"\"\n",
    "fig, ax = plt.subplots(1, 1, figsize=(20,16))\n",
    "plot_use_shape_intersection(fig, ax)\n",
    "plt.savefig('Orography-AROME-NW-Morocco.png')\n",
    "plt.show()"
   ]
  },
  {
   "cell_type": "code",
   "execution_count": 2,
   "id": "tracked-psychology",
   "metadata": {},
   "outputs": [],
   "source": [
    "\"\"\"\"\n",
    "Convert the plot from png to pdf format\n",
    "\"\"\"\"\n",
    "from PIL import Image\n",
    "\n",
    "image_1 = Image.open(r'Orography-AROME-NW-Morocco.png')\n",
    "im_1 = image_1.convert('RGB')\n",
    "im_1.save(r'Orography-AROME-NW-Morocco.pdf')"
   ]
  },
  {
   "cell_type": "code",
   "execution_count": null,
   "id": "handled-youth",
   "metadata": {},
   "outputs": [],
   "source": []
  }
 ],
 "metadata": {
  "kernelspec": {
   "display_name": "Python 3",
   "language": "python",
   "name": "python3"
  },
  "language_info": {
   "codemirror_mode": {
    "name": "ipython",
    "version": 3
   },
   "file_extension": ".py",
   "mimetype": "text/x-python",
   "name": "python",
   "nbconvert_exporter": "python",
   "pygments_lexer": "ipython3",
   "version": "3.6.13"
  }
 },
 "nbformat": 4,
 "nbformat_minor": 5
}
